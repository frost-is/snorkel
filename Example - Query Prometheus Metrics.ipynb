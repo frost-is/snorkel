{
 "cells": [
  {
   "cell_type": "code",
   "execution_count": 10,
   "metadata": {},
   "outputs": [],
   "source": [
    "from prometheus_pandas import query"
   ]
  },
  {
   "cell_type": "code",
   "execution_count": 38,
   "metadata": {},
   "outputs": [],
   "source": [
    "p = query.Prometheus('http://localhost:9090')"
   ]
  },
  {
   "cell_type": "code",
   "execution_count": 17,
   "metadata": {},
   "outputs": [],
   "source": []
  },
  {
   "cell_type": "code",
   "execution_count": 18,
   "metadata": {},
   "outputs": [
    {
     "data": {
      "text/html": [
       "<div>\n",
       "<style scoped>\n",
       "    .dataframe tbody tr th:only-of-type {\n",
       "        vertical-align: middle;\n",
       "    }\n",
       "\n",
       "    .dataframe tbody tr th {\n",
       "        vertical-align: top;\n",
       "    }\n",
       "\n",
       "    .dataframe thead th {\n",
       "        text-align: right;\n",
       "    }\n",
       "</style>\n",
       "<table border=\"1\" class=\"dataframe\">\n",
       "  <thead>\n",
       "    <tr style=\"text-align: right;\">\n",
       "      <th></th>\n",
       "      <th>DCGM_FI_DEV_POWER_USAGE{Hostname=\"DGXA100-Station\",UUID=\"GPU-1a5667d8-b8b0-1ea5-eb1b-db116ecc146b\",device=\"nvidia1\",gpu=\"1\",instance=\"localhost:9400\",job=\"prometheus\",modelName=\"NVIDIA A100-SXM4-40GB\"}</th>\n",
       "      <th>DCGM_FI_DEV_POWER_USAGE{Hostname=\"DGXA100-Station\",UUID=\"GPU-1b4fe5a7-aac4-3b14-60e9-cdd29b62157a\",device=\"nvidia2\",gpu=\"2\",instance=\"localhost:9400\",job=\"prometheus\",modelName=\"NVIDIA A100-SXM4-40GB\"}</th>\n",
       "      <th>DCGM_FI_DEV_POWER_USAGE{Hostname=\"DGXA100-Station\",UUID=\"GPU-3344e6f1-75e0-fd0a-08e6-e3f147fc754f\",device=\"nvidia0\",gpu=\"0\",instance=\"localhost:9400\",job=\"prometheus\",modelName=\"NVIDIA A100-SXM4-40GB\"}</th>\n",
       "      <th>DCGM_FI_DEV_POWER_USAGE{Hostname=\"DGXA100-Station\",UUID=\"GPU-625ae23d-0b17-440e-ab8e-749813af194f\",device=\"nvidia4\",gpu=\"4\",instance=\"localhost:9400\",job=\"prometheus\",modelName=\"NVIDIA A100-SXM4-40GB\"}</th>\n",
       "    </tr>\n",
       "  </thead>\n",
       "  <tbody>\n",
       "    <tr>\n",
       "      <th>2022-02-01 10:59:00</th>\n",
       "      <td>56.018</td>\n",
       "      <td>54.077</td>\n",
       "      <td>49.885</td>\n",
       "      <td>51.298</td>\n",
       "    </tr>\n",
       "    <tr>\n",
       "      <th>2022-02-01 10:59:15</th>\n",
       "      <td>56.257</td>\n",
       "      <td>54.316</td>\n",
       "      <td>134.042</td>\n",
       "      <td>51.765</td>\n",
       "    </tr>\n",
       "    <tr>\n",
       "      <th>2022-02-01 10:59:30</th>\n",
       "      <td>56.257</td>\n",
       "      <td>54.316</td>\n",
       "      <td>134.042</td>\n",
       "      <td>51.765</td>\n",
       "    </tr>\n",
       "    <tr>\n",
       "      <th>2022-02-01 10:59:45</th>\n",
       "      <td>56.544</td>\n",
       "      <td>54.540</td>\n",
       "      <td>199.390</td>\n",
       "      <td>51.765</td>\n",
       "    </tr>\n",
       "    <tr>\n",
       "      <th>2022-02-01 11:00:00</th>\n",
       "      <td>56.544</td>\n",
       "      <td>54.540</td>\n",
       "      <td>199.390</td>\n",
       "      <td>51.765</td>\n",
       "    </tr>\n",
       "    <tr>\n",
       "      <th>...</th>\n",
       "      <td>...</td>\n",
       "      <td>...</td>\n",
       "      <td>...</td>\n",
       "      <td>...</td>\n",
       "    </tr>\n",
       "    <tr>\n",
       "      <th>2022-02-01 11:39:00</th>\n",
       "      <td>58.680</td>\n",
       "      <td>55.903</td>\n",
       "      <td>262.891</td>\n",
       "      <td>53.017</td>\n",
       "    </tr>\n",
       "    <tr>\n",
       "      <th>2022-02-01 11:39:15</th>\n",
       "      <td>58.325</td>\n",
       "      <td>55.616</td>\n",
       "      <td>51.462</td>\n",
       "      <td>52.839</td>\n",
       "    </tr>\n",
       "    <tr>\n",
       "      <th>2022-02-01 11:39:30</th>\n",
       "      <td>58.325</td>\n",
       "      <td>55.616</td>\n",
       "      <td>51.462</td>\n",
       "      <td>52.839</td>\n",
       "    </tr>\n",
       "    <tr>\n",
       "      <th>2022-02-01 11:39:45</th>\n",
       "      <td>57.840</td>\n",
       "      <td>55.377</td>\n",
       "      <td>50.939</td>\n",
       "      <td>52.599</td>\n",
       "    </tr>\n",
       "    <tr>\n",
       "      <th>2022-02-01 11:40:00</th>\n",
       "      <td>57.840</td>\n",
       "      <td>55.377</td>\n",
       "      <td>50.939</td>\n",
       "      <td>52.599</td>\n",
       "    </tr>\n",
       "  </tbody>\n",
       "</table>\n",
       "<p>165 rows × 4 columns</p>\n",
       "</div>"
      ],
      "text/plain": [
       "                     DCGM_FI_DEV_POWER_USAGE{Hostname=\"DGXA100-Station\",UUID=\"GPU-1a5667d8-b8b0-1ea5-eb1b-db116ecc146b\",device=\"nvidia1\",gpu=\"1\",instance=\"localhost:9400\",job=\"prometheus\",modelName=\"NVIDIA A100-SXM4-40GB\"}  \\\n",
       "2022-02-01 10:59:00                                             56.018                                                                                                                                                           \n",
       "2022-02-01 10:59:15                                             56.257                                                                                                                                                           \n",
       "2022-02-01 10:59:30                                             56.257                                                                                                                                                           \n",
       "2022-02-01 10:59:45                                             56.544                                                                                                                                                           \n",
       "2022-02-01 11:00:00                                             56.544                                                                                                                                                           \n",
       "...                                                                ...                                                                                                                                                           \n",
       "2022-02-01 11:39:00                                             58.680                                                                                                                                                           \n",
       "2022-02-01 11:39:15                                             58.325                                                                                                                                                           \n",
       "2022-02-01 11:39:30                                             58.325                                                                                                                                                           \n",
       "2022-02-01 11:39:45                                             57.840                                                                                                                                                           \n",
       "2022-02-01 11:40:00                                             57.840                                                                                                                                                           \n",
       "\n",
       "                     DCGM_FI_DEV_POWER_USAGE{Hostname=\"DGXA100-Station\",UUID=\"GPU-1b4fe5a7-aac4-3b14-60e9-cdd29b62157a\",device=\"nvidia2\",gpu=\"2\",instance=\"localhost:9400\",job=\"prometheus\",modelName=\"NVIDIA A100-SXM4-40GB\"}  \\\n",
       "2022-02-01 10:59:00                                             54.077                                                                                                                                                           \n",
       "2022-02-01 10:59:15                                             54.316                                                                                                                                                           \n",
       "2022-02-01 10:59:30                                             54.316                                                                                                                                                           \n",
       "2022-02-01 10:59:45                                             54.540                                                                                                                                                           \n",
       "2022-02-01 11:00:00                                             54.540                                                                                                                                                           \n",
       "...                                                                ...                                                                                                                                                           \n",
       "2022-02-01 11:39:00                                             55.903                                                                                                                                                           \n",
       "2022-02-01 11:39:15                                             55.616                                                                                                                                                           \n",
       "2022-02-01 11:39:30                                             55.616                                                                                                                                                           \n",
       "2022-02-01 11:39:45                                             55.377                                                                                                                                                           \n",
       "2022-02-01 11:40:00                                             55.377                                                                                                                                                           \n",
       "\n",
       "                     DCGM_FI_DEV_POWER_USAGE{Hostname=\"DGXA100-Station\",UUID=\"GPU-3344e6f1-75e0-fd0a-08e6-e3f147fc754f\",device=\"nvidia0\",gpu=\"0\",instance=\"localhost:9400\",job=\"prometheus\",modelName=\"NVIDIA A100-SXM4-40GB\"}  \\\n",
       "2022-02-01 10:59:00                                             49.885                                                                                                                                                           \n",
       "2022-02-01 10:59:15                                            134.042                                                                                                                                                           \n",
       "2022-02-01 10:59:30                                            134.042                                                                                                                                                           \n",
       "2022-02-01 10:59:45                                            199.390                                                                                                                                                           \n",
       "2022-02-01 11:00:00                                            199.390                                                                                                                                                           \n",
       "...                                                                ...                                                                                                                                                           \n",
       "2022-02-01 11:39:00                                            262.891                                                                                                                                                           \n",
       "2022-02-01 11:39:15                                             51.462                                                                                                                                                           \n",
       "2022-02-01 11:39:30                                             51.462                                                                                                                                                           \n",
       "2022-02-01 11:39:45                                             50.939                                                                                                                                                           \n",
       "2022-02-01 11:40:00                                             50.939                                                                                                                                                           \n",
       "\n",
       "                     DCGM_FI_DEV_POWER_USAGE{Hostname=\"DGXA100-Station\",UUID=\"GPU-625ae23d-0b17-440e-ab8e-749813af194f\",device=\"nvidia4\",gpu=\"4\",instance=\"localhost:9400\",job=\"prometheus\",modelName=\"NVIDIA A100-SXM4-40GB\"}  \n",
       "2022-02-01 10:59:00                                             51.298                                                                                                                                                          \n",
       "2022-02-01 10:59:15                                             51.765                                                                                                                                                          \n",
       "2022-02-01 10:59:30                                             51.765                                                                                                                                                          \n",
       "2022-02-01 10:59:45                                             51.765                                                                                                                                                          \n",
       "2022-02-01 11:00:00                                             51.765                                                                                                                                                          \n",
       "...                                                                ...                                                                                                                                                          \n",
       "2022-02-01 11:39:00                                             53.017                                                                                                                                                          \n",
       "2022-02-01 11:39:15                                             52.839                                                                                                                                                          \n",
       "2022-02-01 11:39:30                                             52.839                                                                                                                                                          \n",
       "2022-02-01 11:39:45                                             52.599                                                                                                                                                          \n",
       "2022-02-01 11:40:00                                             52.599                                                                                                                                                          \n",
       "\n",
       "[165 rows x 4 columns]"
      ]
     },
     "execution_count": 18,
     "metadata": {},
     "output_type": "execute_result"
    }
   ],
   "source": [
    "result"
   ]
  },
  {
   "cell_type": "code",
   "execution_count": 19,
   "metadata": {},
   "outputs": [],
   "source": [
    "result.to_csv('inceptionresnet_train.csv')"
   ]
  },
  {
   "cell_type": "code",
   "execution_count": 23,
   "metadata": {},
   "outputs": [
    {
     "name": "stdout",
     "output_type": "stream",
     "text": [
      "                     DCGM_FI_DEV_POWER_USAGE{Hostname=\"DGXA100-Station\",UUID=\"GPU-1a5667d8-b8b0-1ea5-eb1b-db116ecc146b\",device=\"nvidia1\",gpu=\"1\",instance=\"localhost:9400\",job=\"prometheus\",modelName=\"NVIDIA A100-SXM4-40GB\"}  \\\n",
      "2022-02-02 12:18:00                                             56.257                                                                                                                                                           \n",
      "2022-02-02 12:18:15                                             56.257                                                                                                                                                           \n",
      "2022-02-02 12:18:30                                             56.257                                                                                                                                                           \n",
      "2022-02-02 12:18:45                                             56.018                                                                                                                                                           \n",
      "2022-02-02 12:19:00                                             56.018                                                                                                                                                           \n",
      "...                                                                ...                                                                                                                                                           \n",
      "2022-02-02 12:43:00                                             57.028                                                                                                                                                           \n",
      "2022-02-02 12:43:15                                             56.783                                                                                                                                                           \n",
      "2022-02-02 12:43:30                                             56.783                                                                                                                                                           \n",
      "2022-02-02 12:43:45                                             56.783                                                                                                                                                           \n",
      "2022-02-02 12:44:00                                             56.783                                                                                                                                                           \n",
      "\n",
      "                     DCGM_FI_DEV_POWER_USAGE{Hostname=\"DGXA100-Station\",UUID=\"GPU-1b4fe5a7-aac4-3b14-60e9-cdd29b62157a\",device=\"nvidia2\",gpu=\"2\",instance=\"localhost:9400\",job=\"prometheus\",modelName=\"NVIDIA A100-SXM4-40GB\"}  \\\n",
      "2022-02-02 12:18:00                                             54.316                                                                                                                                                           \n",
      "2022-02-02 12:18:15                                             54.077                                                                                                                                                           \n",
      "2022-02-02 12:18:30                                             54.077                                                                                                                                                           \n",
      "2022-02-02 12:18:45                                             54.316                                                                                                                                                           \n",
      "2022-02-02 12:19:00                                             54.316                                                                                                                                                           \n",
      "...                                                                ...                                                                                                                                                           \n",
      "2022-02-02 12:43:00                                             54.850                                                                                                                                                           \n",
      "2022-02-02 12:43:15                                             54.850                                                                                                                                                           \n",
      "2022-02-02 12:43:30                                             54.850                                                                                                                                                           \n",
      "2022-02-02 12:43:45                                             54.604                                                                                                                                                           \n",
      "2022-02-02 12:44:00                                             54.604                                                                                                                                                           \n",
      "\n",
      "                     DCGM_FI_DEV_POWER_USAGE{Hostname=\"DGXA100-Station\",UUID=\"GPU-3344e6f1-75e0-fd0a-08e6-e3f147fc754f\",device=\"nvidia0\",gpu=\"0\",instance=\"localhost:9400\",job=\"prometheus\",modelName=\"NVIDIA A100-SXM4-40GB\"}  \\\n",
      "2022-02-02 12:18:00                                             50.170                                                                                                                                                           \n",
      "2022-02-02 12:18:15                                             50.170                                                                                                                                                           \n",
      "2022-02-02 12:18:30                                             50.170                                                                                                                                                           \n",
      "2022-02-02 12:18:45                                             50.229                                                                                                                                                           \n",
      "2022-02-02 12:19:00                                             50.229                                                                                                                                                           \n",
      "...                                                                ...                                                                                                                                                           \n",
      "2022-02-02 12:43:00                                             50.408                                                                                                                                                           \n",
      "2022-02-02 12:43:15                                             50.408                                                                                                                                                           \n",
      "2022-02-02 12:43:30                                             50.408                                                                                                                                                           \n",
      "2022-02-02 12:43:45                                             50.408                                                                                                                                                           \n",
      "2022-02-02 12:44:00                                             50.408                                                                                                                                                           \n",
      "\n",
      "                     DCGM_FI_DEV_POWER_USAGE{Hostname=\"DGXA100-Station\",UUID=\"GPU-625ae23d-0b17-440e-ab8e-749813af194f\",device=\"nvidia4\",gpu=\"4\",instance=\"localhost:9400\",job=\"prometheus\",modelName=\"NVIDIA A100-SXM4-40GB\"}  \n",
      "2022-02-02 12:18:00                                             51.478                                                                                                                                                          \n",
      "2022-02-02 12:18:15                                             51.478                                                                                                                                                          \n",
      "2022-02-02 12:18:30                                             51.478                                                                                                                                                          \n",
      "2022-02-02 12:18:45                                             51.478                                                                                                                                                          \n",
      "2022-02-02 12:19:00                                             51.478                                                                                                                                                          \n",
      "...                                                                ...                                                                                                                                                          \n",
      "2022-02-02 12:43:00                                             52.065                                                                                                                                                          \n",
      "2022-02-02 12:43:15                                             52.065                                                                                                                                                          \n",
      "2022-02-02 12:43:30                                             52.065                                                                                                                                                          \n",
      "2022-02-02 12:43:45                                             52.065                                                                                                                                                          \n",
      "2022-02-02 12:44:00                                             52.065                                                                                                                                                          \n",
      "\n",
      "[105 rows x 4 columns]\n"
     ]
    }
   ],
   "source": [
    "##Mobilenet Small - Mobilenet Large \n",
    "print(p.query_range(\n",
    "        'DCGM_FI_DEV_POWER_USAGE',\n",
    "        '2022-02-02T12:18:00Z', '2022-02-02T12:44:00Z', '15s'))"
   ]
  },
  {
   "cell_type": "code",
   "execution_count": 24,
   "metadata": {},
   "outputs": [],
   "source": [
    "result_mobilenet = p.query_range(\n",
    "        'DCGM_FI_DEV_POWER_USAGE',\n",
    "        '2022-02-02T12:18:00Z', '2022-02-02T12:44:00Z', '15s')"
   ]
  },
  {
   "cell_type": "code",
   "execution_count": 25,
   "metadata": {},
   "outputs": [],
   "source": [
    "result_mobilenet.to_csv('mobilenet_large_small_power.csv')"
   ]
  },
  {
   "cell_type": "code",
   "execution_count": 26,
   "metadata": {},
   "outputs": [],
   "source": [
    "result_nasnet = p.query_range(\n",
    "        'DCGM_FI_DEV_POWER_USAGE',\n",
    "        '2022-02-03T16:45:00Z', '2022-02-03T18:45:00Z', '15s')"
   ]
  },
  {
   "cell_type": "code",
   "execution_count": 27,
   "metadata": {},
   "outputs": [
    {
     "name": "stdout",
     "output_type": "stream",
     "text": [
      "                     DCGM_FI_DEV_POWER_USAGE{Hostname=\"DGXA100-Station\",UUID=\"GPU-1a5667d8-b8b0-1ea5-eb1b-db116ecc146b\",device=\"nvidia1\",gpu=\"1\",instance=\"localhost:9400\",job=\"prometheus\",modelName=\"NVIDIA A100-SXM4-40GB\"}  \\\n",
      "2022-02-03 16:45:00                                             56.018                                                                                                                                                           \n",
      "2022-02-03 16:45:15                                             56.018                                                                                                                                                           \n",
      "2022-02-03 16:45:30                                             56.018                                                                                                                                                           \n",
      "2022-02-03 16:45:45                                             56.084                                                                                                                                                           \n",
      "2022-02-03 16:46:00                                             56.084                                                                                                                                                           \n",
      "...                                                                ...                                                                                                                                                           \n",
      "2022-02-03 18:44:00                                             56.544                                                                                                                                                           \n",
      "2022-02-03 18:44:15                                             56.257                                                                                                                                                           \n",
      "2022-02-03 18:44:30                                             56.257                                                                                                                                                           \n",
      "2022-02-03 18:44:45                                             56.257                                                                                                                                                           \n",
      "2022-02-03 18:45:00                                             56.257                                                                                                                                                           \n",
      "\n",
      "                     DCGM_FI_DEV_POWER_USAGE{Hostname=\"DGXA100-Station\",UUID=\"GPU-1b4fe5a7-aac4-3b14-60e9-cdd29b62157a\",device=\"nvidia2\",gpu=\"2\",instance=\"localhost:9400\",job=\"prometheus\",modelName=\"NVIDIA A100-SXM4-40GB\"}  \\\n",
      "2022-02-03 16:45:00                                             54.077                                                                                                                                                           \n",
      "2022-02-03 16:45:15                                             54.077                                                                                                                                                           \n",
      "2022-02-03 16:45:30                                             54.077                                                                                                                                                           \n",
      "2022-02-03 16:45:45                                             54.077                                                                                                                                                           \n",
      "2022-02-03 16:46:00                                             54.077                                                                                                                                                           \n",
      "...                                                                ...                                                                                                                                                           \n",
      "2022-02-03 18:44:00                                             54.316                                                                                                                                                           \n",
      "2022-02-03 18:44:15                                             54.077                                                                                                                                                           \n",
      "2022-02-03 18:44:30                                             54.077                                                                                                                                                           \n",
      "2022-02-03 18:44:45                                             54.077                                                                                                                                                           \n",
      "2022-02-03 18:45:00                                             54.077                                                                                                                                                           \n",
      "\n",
      "                     DCGM_FI_DEV_POWER_USAGE{Hostname=\"DGXA100-Station\",UUID=\"GPU-3344e6f1-75e0-fd0a-08e6-e3f147fc754f\",device=\"nvidia0\",gpu=\"0\",instance=\"localhost:9400\",job=\"prometheus\",modelName=\"NVIDIA A100-SXM4-40GB\"}  \\\n",
      "2022-02-03 16:45:00                                             49.885                                                                                                                                                           \n",
      "2022-02-03 16:45:15                                             49.943                                                                                                                                                           \n",
      "2022-02-03 16:45:30                                             49.943                                                                                                                                                           \n",
      "2022-02-03 16:45:45                                             50.170                                                                                                                                                           \n",
      "2022-02-03 16:46:00                                             50.170                                                                                                                                                           \n",
      "...                                                                ...                                                                                                                                                           \n",
      "2022-02-03 18:44:00                                             50.408                                                                                                                                                           \n",
      "2022-02-03 18:44:15                                             50.408                                                                                                                                                           \n",
      "2022-02-03 18:44:30                                             50.408                                                                                                                                                           \n",
      "2022-02-03 18:44:45                                             50.229                                                                                                                                                           \n",
      "2022-02-03 18:45:00                                             50.229                                                                                                                                                           \n",
      "\n",
      "                     DCGM_FI_DEV_POWER_USAGE{Hostname=\"DGXA100-Station\",UUID=\"GPU-625ae23d-0b17-440e-ab8e-749813af194f\",device=\"nvidia4\",gpu=\"4\",instance=\"localhost:9400\",job=\"prometheus\",modelName=\"NVIDIA A100-SXM4-40GB\"}  \n",
      "2022-02-03 16:45:00                                             51.538                                                                                                                                                          \n",
      "2022-02-03 16:45:15                                             51.478                                                                                                                                                          \n",
      "2022-02-03 16:45:30                                             51.478                                                                                                                                                          \n",
      "2022-02-03 16:45:45                                             51.538                                                                                                                                                          \n",
      "2022-02-03 16:46:00                                             51.538                                                                                                                                                          \n",
      "...                                                                ...                                                                                                                                                          \n",
      "2022-02-03 18:44:00                                             51.826                                                                                                                                                          \n",
      "2022-02-03 18:44:15                                             51.478                                                                                                                                                          \n",
      "2022-02-03 18:44:30                                             51.478                                                                                                                                                          \n",
      "2022-02-03 18:44:45                                             51.538                                                                                                                                                          \n",
      "2022-02-03 18:45:00                                             51.538                                                                                                                                                          \n",
      "\n",
      "[481 rows x 4 columns]\n"
     ]
    }
   ],
   "source": [
    "print(result_nasnet)"
   ]
  },
  {
   "cell_type": "code",
   "execution_count": 28,
   "metadata": {},
   "outputs": [],
   "source": [
    "result_nasnet.to_csv('nasnet_large_mobile_power.csv')"
   ]
  },
  {
   "cell_type": "code",
   "execution_count": 29,
   "metadata": {},
   "outputs": [],
   "source": [
    "result_281 = p.query_range(\n",
    "        'DCGM_FI_DEV_POWER_USAGE',\n",
    "        '2022-02-04T15:20:00Z', '2022-02-05T00:45:00Z', '15s')"
   ]
  },
  {
   "cell_type": "code",
   "execution_count": 31,
   "metadata": {},
   "outputs": [],
   "source": [
    "result_281.to_csv('TF2.8-Part1.csv')"
   ]
  },
  {
   "cell_type": "code",
   "execution_count": 36,
   "metadata": {},
   "outputs": [],
   "source": [
    "result_282 = p.query_range(\n",
    "        'DCGM_FI_DEV_POWER_USAGE',\n",
    "        '2022-02-05T12:20:00Z', '2022-02-06T03:00:00Z', '15s')"
   ]
  },
  {
   "cell_type": "code",
   "execution_count": 37,
   "metadata": {},
   "outputs": [],
   "source": [
    "result_282.to_csv('TF2.8-Part2.csv')"
   ]
  },
  {
   "cell_type": "code",
   "execution_count": null,
   "metadata": {},
   "outputs": [],
   "source": []
  }
 ],
 "metadata": {
  "kernelspec": {
   "display_name": "Python 3",
   "language": "python",
   "name": "python3"
  },
  "language_info": {
   "codemirror_mode": {
    "name": "ipython",
    "version": 3
   },
   "file_extension": ".py",
   "mimetype": "text/x-python",
   "name": "python",
   "nbconvert_exporter": "python",
   "pygments_lexer": "ipython3",
   "version": "3.8.10"
  }
 },
 "nbformat": 4,
 "nbformat_minor": 4
}
