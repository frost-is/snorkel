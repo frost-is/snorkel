{
 "cells": [
  {
   "cell_type": "markdown",
   "metadata": {},
   "source": [
    "# Snorkel - Test Notebook"
   ]
  },
  {
   "cell_type": "markdown",
   "metadata": {},
   "source": [
    "## Initialisation"
   ]
  },
  {
   "cell_type": "code",
   "execution_count": 12,
   "metadata": {},
   "outputs": [
    {
     "name": "stdout",
     "output_type": "stream",
     "text": [
      "/device:GPU:0\n"
     ]
    }
   ],
   "source": [
    "from tensorflow.keras.applications.inception_resnet_v2 import InceptionResNetV2\n",
    "from tensorflow.keras.preprocessing import image\n",
    "from tensorflow.keras.applications.inception_resnet_v2 import preprocess_input, decode_predictions\n",
    "import tensorflow as tf\n",
    "import numpy as np\n",
    "import os\n",
    "import cv2\n",
    "import time\n",
    "\n",
    "print(tf.test.gpu_device_name())"
   ]
  },
  {
   "cell_type": "code",
   "execution_count": 2,
   "metadata": {},
   "outputs": [],
   "source": [
    "path_train = './ILSVRC2012_img_train/'\n",
    "path_test = './ILSVRC2012_img_test_v10102019'\n",
    "path_validation = '.ILSVRC2012_img_val/'"
   ]
  },
  {
   "cell_type": "code",
   "execution_count": 3,
   "metadata": {},
   "outputs": [],
   "source": [
    "resnetv2 = InceptionResNetV2(\n",
    "    include_top=True, weights='imagenet', input_tensor=None,\n",
    "    input_shape=None, pooling=None, classes=1000,\n",
    "    classifier_activation='softmax')"
   ]
  },
  {
   "cell_type": "code",
   "execution_count": 4,
   "metadata": {},
   "outputs": [
    {
     "name": "stdout",
     "output_type": "stream",
     "text": [
      "WARNING:tensorflow:`input_shape` is undefined or non-square, or `rows` is not 224. Weights for input shape (224, 224) will be loaded as the default.\n"
     ]
    }
   ],
   "source": [
    "mobilenet_small = tf.keras.applications.MobileNetV3Small(\n",
    "    input_shape=None, alpha=1.0, minimalistic=False, include_top=True,\n",
    "    weights='imagenet', input_tensor=None, classes=1000, pooling=None,\n",
    "    dropout_rate=0.2, classifier_activation='softmax',\n",
    "    include_preprocessing=True\n",
    ")\n"
   ]
  },
  {
   "cell_type": "code",
   "execution_count": 5,
   "metadata": {},
   "outputs": [
    {
     "name": "stdout",
     "output_type": "stream",
     "text": [
      "WARNING:tensorflow:`input_shape` is undefined or non-square, or `rows` is not 224. Weights for input shape (224, 224) will be loaded as the default.\n"
     ]
    }
   ],
   "source": [
    "mobilenet_large = tf.keras.applications.MobileNetV3Large(\n",
    "    input_shape=None, alpha=1.0, minimalistic=False, include_top=True,\n",
    "    weights='imagenet', input_tensor=None, classes=1000, pooling=None,\n",
    "    dropout_rate=0.2, classifier_activation='softmax',\n",
    "    include_preprocessing=True\n",
    ")"
   ]
  },
  {
   "cell_type": "code",
   "execution_count": 6,
   "metadata": {},
   "outputs": [],
   "source": [
    "nasnet_mobile = tf.keras.applications.nasnet.NASNetMobile(\n",
    "    input_shape=None, include_top=True, weights='imagenet',\n",
    "    input_tensor=None, pooling=None, classes=1000\n",
    ")\n"
   ]
  },
  {
   "cell_type": "code",
   "execution_count": 7,
   "metadata": {},
   "outputs": [],
   "source": [
    "nasnet_large = tf.keras.applications.nasnet.NASNetLarge(\n",
    "    input_shape=None, include_top=True, weights='imagenet',\n",
    "    input_tensor=None, pooling=None, classes=1000\n",
    ")\n"
   ]
  },
  {
   "cell_type": "code",
   "execution_count": null,
   "metadata": {},
   "outputs": [],
   "source": [
    "efficientnetv2_L = tf.keras.applications.EfficientNetV2L(\n",
    "    include_top=True, weights='imagenet', input_tensor=None,\n",
    "    input_shape=None, pooling=None, classes=1000,\n",
    "    classifier_activation='softmax', include_preprocessing=True\n",
    ")\n"
   ]
  },
  {
   "cell_type": "code",
   "execution_count": null,
   "metadata": {},
   "outputs": [],
   "source": [
    "efficientnetv2_M = tf.keras.applications.efficientnet_v2.EfficientNetV2M(\n",
    "    include_top=True, weights='imagenet', input_tensor=None,\n",
    "    input_shape=None, pooling=None, classes=1000,\n",
    "    classifier_activation='softmax', include_preprocessing=True\n",
    ")\n"
   ]
  },
  {
   "cell_type": "code",
   "execution_count": null,
   "metadata": {},
   "outputs": [],
   "source": [
    "efficientnetv2_S = tf.keras.applications.efficientnet_v2.EfficientNetV2S(\n",
    "    include_top=True, weights='imagenet', input_tensor=None,\n",
    "    input_shape=None, pooling=None, classes=1000,\n",
    "    classifier_activation='softmax', include_preprocessing=True\n",
    ")\n"
   ]
  },
  {
   "cell_type": "markdown",
   "metadata": {},
   "source": [
    "# Creating all datasets"
   ]
  },
  {
   "cell_type": "code",
   "execution_count": null,
   "metadata": {},
   "outputs": [],
   "source": [
    "train_dataset_299 = tf.keras.utils.image_dataset_from_directory(\n",
    "    path_train, labels='inferred', label_mode='int',\n",
    "    class_names=None, color_mode='rgb', batch_size=32, image_size=(299,\n",
    "    299), shuffle=False, seed=None, validation_split=None, subset=None,\n",
    "    interpolation='bilinear', follow_links=False,\n",
    "    crop_to_aspect_ratio=False\n",
    ")\n"
   ]
  },
  {
   "cell_type": "code",
   "execution_count": null,
   "metadata": {},
   "outputs": [],
   "source": [
    "train_dataset_224 = tf.keras.utils.image_dataset_from_directory(\n",
    "    path_train, labels='inferred', label_mode='int',\n",
    "    class_names=None, color_mode='rgb', batch_size=32, image_size=(224,\n",
    "    224), shuffle=False, seed=None, validation_split=None, subset=None,\n",
    "    interpolation='bilinear', follow_links=False,\n",
    "    crop_to_aspect_ratio=False\n",
    ")\n"
   ]
  },
  {
   "cell_type": "code",
   "execution_count": null,
   "metadata": {},
   "outputs": [],
   "source": [
    "train_dataset_331 = tf.keras.utils.image_dataset_from_directory(\n",
    "    path_train, labels='inferred', label_mode='int',\n",
    "    class_names=None, color_mode='rgb', batch_size=32, image_size=(331,\n",
    "    331), shuffle=False, seed=None, validation_split=None, subset=None,\n",
    "    interpolation='bilinear', follow_links=False,\n",
    "    crop_to_aspect_ratio=False\n",
    ")\n"
   ]
  },
  {
   "cell_type": "code",
   "execution_count": null,
   "metadata": {},
   "outputs": [],
   "source": [
    "train_dataset_384 = tf.keras.utils.image_dataset_from_directory(\n",
    "    path_train, labels='inferred', label_mode='int',\n",
    "    class_names=None, color_mode='rgb', batch_size=32, image_size=(384,\n",
    "    384), shuffle=False, seed=None, validation_split=None, subset=None,\n",
    "    interpolation='bilinear', follow_links=False,\n",
    "    crop_to_aspect_ratio=False\n",
    ")\n"
   ]
  },
  {
   "cell_type": "code",
   "execution_count": null,
   "metadata": {},
   "outputs": [],
   "source": [
    "train_dataset_480 = tf.keras.utils.image_dataset_from_directory(\n",
    "    path_train, labels='inferred', label_mode='int',\n",
    "    class_names=None, color_mode='rgb', batch_size=32, image_size=(480,\n",
    "    480), shuffle=False, seed=None, validation_split=None, subset=None,\n",
    "    interpolation='bilinear', follow_links=False,\n",
    "    crop_to_aspect_ratio=False\n",
    ")\n"
   ]
  },
  {
   "cell_type": "markdown",
   "metadata": {},
   "source": [
    "# InceptionResnetv2"
   ]
  },
  {
   "cell_type": "code",
   "execution_count": null,
   "metadata": {},
   "outputs": [],
   "source": [
    "test=[]\n",
    "\n",
    "for i in range(3):\n",
    "    start = time.time()\n",
    "    preds_train = resnetv2.predict(train_dataset_299)\n",
    "    stop = time.time()\n",
    "    test.append(stop-start)\n",
    "\n",
    "print (\"Total inference time is : \", test)\n",
    "time.sleep(30)"
   ]
  },
  {
   "cell_type": "markdown",
   "metadata": {},
   "source": [
    "# MobileNet"
   ]
  },
  {
   "cell_type": "code",
   "execution_count": null,
   "metadata": {},
   "outputs": [],
   "source": [
    "test = []\n",
    "\n",
    "for i in range(3):\n",
    "    start = time.time()\n",
    "    mobilenetL_preds_train = mobilenet_large.predict(train_dataset_224)\n",
    "    stop = time.time()\n",
    "    test.append(stop-start)\n",
    "\n",
    "print (\"Total inference time is : \", test)\n",
    "time.sleep(30)"
   ]
  },
  {
   "cell_type": "markdown",
   "metadata": {},
   "source": [
    "# NasNet Large"
   ]
  },
  {
   "cell_type": "code",
   "execution_count": null,
   "metadata": {},
   "outputs": [],
   "source": [
    "test = []\n",
    "\n",
    "for i in range(3):\n",
    "    start = time.time()\n",
    "    nasnetL_preds_train = nasnet_large.predict(train_dataset_331)\n",
    "    stop = time.time()\n",
    "    test.append(stop-start)\n",
    "    \n",
    "print (\"Total inference time is : \", test)\n",
    "time.sleep(30)"
   ]
  },
  {
   "cell_type": "markdown",
   "metadata": {},
   "source": [
    "# NasNet Mobile"
   ]
  },
  {
   "cell_type": "code",
   "execution_count": null,
   "metadata": {},
   "outputs": [],
   "source": [
    "test = []\n",
    "\n",
    "for i in range(3):\n",
    "    start = time.time()\n",
    "    nasnetS_preds_train = nasnet_mobile.predict(train_dataset_224)\n",
    "    stop = time.time()\n",
    "    test.append(stop-start)\n",
    "\n",
    "print (\"Total inference time is : \", test)\n",
    "time.sleep(30)"
   ]
  },
  {
   "cell_type": "markdown",
   "metadata": {},
   "source": [
    "# EfficientNetv2 (L - M - S)"
   ]
  },
  {
   "cell_type": "code",
   "execution_count": null,
   "metadata": {},
   "outputs": [],
   "source": [
    "test = []\n",
    "\n",
    "for i in range(3):\n",
    "    start = time.time()\n",
    "    efficientnetv2_S_preds_train = efficientnetv2_S.predict(train_dataset_384)\n",
    "    stop = time.time()\n",
    "    test.append(stop-start)\n",
    "\n",
    "print (\"Total inference time is : \", test)\n",
    "time.sleep(30)"
   ]
  },
  {
   "cell_type": "code",
   "execution_count": null,
   "metadata": {},
   "outputs": [],
   "source": [
    "test = []\n",
    "\n",
    "for i in range(3):\n",
    "    start = time.time()\n",
    "    efficientnetv2_M_preds_train = efficientnetv2_M.predict(train_dataset_480)\n",
    "    stop = time.time()\n",
    "    test.append(stop-start)\n",
    "\n",
    "print (\"Total inference time is : \", test)\n",
    "time.sleep(30)"
   ]
  },
  {
   "cell_type": "code",
   "execution_count": null,
   "metadata": {},
   "outputs": [],
   "source": [
    "test = []\n",
    "\n",
    "for i in range(3):\n",
    "    start = time.time()\n",
    "    efficientnetv2_L_preds_train = efficientnetv2_L.predict(train_dataset_480)\n",
    "    stop = time.time()\n",
    "    test.append(stop-start)\n",
    "\n",
    "print (\"Total inference time is : \", test)\n",
    "time.sleep(30)"
   ]
  },
  {
   "cell_type": "code",
   "execution_count": null,
   "metadata": {},
   "outputs": [],
   "source": []
  }
 ],
 "metadata": {
  "kernelspec": {
   "display_name": "Python 3",
   "language": "python",
   "name": "python3"
  },
  "language_info": {
   "codemirror_mode": {
    "name": "ipython",
    "version": 3
   },
   "file_extension": ".py",
   "mimetype": "text/x-python",
   "name": "python",
   "nbconvert_exporter": "python",
   "pygments_lexer": "ipython3",
   "version": "3.8.10"
  }
 },
 "nbformat": 4,
 "nbformat_minor": 4
}
